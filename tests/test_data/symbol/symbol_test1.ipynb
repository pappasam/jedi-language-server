{
 "cells": [
  {
   "cell_type": "code",
   "execution_count": null,
   "metadata": {},
   "outputs": [],
   "source": [
    "from typing import Any\n",
    "\n",
    "from . import somemodule, somemodule2"
   ]
  },
  {
   "cell_type": "code",
   "execution_count": null,
   "metadata": {},
   "outputs": [],
   "source": [
    "SOME_CONSTANT = 1"
   ]
  },
  {
   "cell_type": "code",
   "execution_count": null,
   "metadata": {},
   "outputs": [],
   "source": [
    "def do_work():\n",
    "    \"\"\"Function for symbols test.\"\"\"\n",
    "    somemodule.do_something()\n",
    "    somemodule2.do_something_else()"
   ]
  },
  {
   "cell_type": "code",
   "execution_count": null,
   "metadata": {},
   "outputs": [],
   "source": [
    "class SomeClass:\n",
    "    \"\"\"Class for symbols test.\"\"\"\n",
    "\n",
    "    def __init__(self, arg1: Any):\n",
    "        self.somedata = arg1\n",
    "\n",
    "    def do_something(self):\n",
    "        \"\"\"Method for symbols test.\"\"\"\n",
    "\n",
    "    def so_something_else(self):\n",
    "        \"\"\"Method for symbols test.\"\"\""
   ]
  }
 ],
 "metadata": {
  "language_info": {
   "name": "python"
  }
 },
 "nbformat": 4,
 "nbformat_minor": 2
}
