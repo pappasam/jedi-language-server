{
 "cells": [
  {
   "cell_type": "code",
   "execution_count": null,
   "metadata": {},
   "outputs": [],
   "source": [
    "\"\"\"Test file for code action tests in test_refactoring.\"\"\"\n",
    "\n",
    "\n",
    "def do_something(x):\n",
    "    if x == 1:\n",
    "        pass"
   ]
  }
 ],
 "metadata": {
  "language_info": {
   "name": "python"
  }
 },
 "nbformat": 4,
 "nbformat_minor": 2
}
