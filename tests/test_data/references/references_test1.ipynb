{
 "cells": [
  {
   "cell_type": "code",
   "execution_count": null,
   "metadata": {},
   "outputs": [],
   "source": [
    "from enum import Enum"
   ]
  },
  {
   "cell_type": "code",
   "execution_count": null,
   "metadata": {},
   "outputs": [],
   "source": [
    "SOME_CONSTANT = \"something\""
   ]
  },
  {
   "cell_type": "code",
   "execution_count": null,
   "metadata": {},
   "outputs": [],
   "source": [
    "def some_function(arg: str) -> str:\n",
    "    \"\"\"Test function for references.\"\"\"\n",
    "    return arg"
   ]
  },
  {
   "cell_type": "code",
   "execution_count": null,
   "metadata": {},
   "outputs": [],
   "source": [
    "class SomeClass(Enum):\n",
    "    \"\"\"Test class for references.\"\"\"\n",
    "\n",
    "    def __init__(self):\n",
    "        self._field = 1\n",
    "\n",
    "    def some_method1(self):\n",
    "        \"\"\"Test method for references.\"\"\"\n",
    "        return SOME_CONSTANT + self._field\n",
    "\n",
    "    def some_method2(self):\n",
    "        \"\"\"Test method for references.\"\"\"\n",
    "        return some_function(SOME_CONSTANT)"
   ]
  },
  {
   "cell_type": "code",
   "execution_count": null,
   "metadata": {},
   "outputs": [],
   "source": [
    "instance = SomeClass()\n",
    "instance.some_method1()\n",
    "instance.some_method2()"
   ]
  }
 ],
 "metadata": {
  "kernelspec": {
   "display_name": "jedi-language-server",
   "language": "python",
   "name": "python3"
  },
  "language_info": {
   "name": "python",
   "version": "3.11.9"
  }
 },
 "nbformat": 4,
 "nbformat_minor": 2
}
