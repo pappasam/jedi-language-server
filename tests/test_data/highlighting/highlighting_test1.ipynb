{
 "cells": [
  {
   "cell_type": "code",
   "execution_count": null,
   "metadata": {},
   "outputs": [],
   "source": [
    "\"\"\"Test file for highlighting.\"\"\"\n",
    "\n",
    "from enum import Enum\n",
    "\n",
    "SOME_CONSTANT = \"something\"\n",
    "\n",
    "\n",
    "def some_function(arg: str) -> str:\n",
    "    \"\"\"Test function for highlighting.\"\"\"\n",
    "    return arg\n",
    "\n",
    "\n",
    "class SomeClass(Enum):\n",
    "    \"\"\"Test class for highlighting.\"\"\"\n",
    "\n",
    "    def __init__(self):\n",
    "        self._field = 1\n",
    "\n",
    "    def some_method1(self):\n",
    "        \"\"\"Test method for highlighting.\"\"\"\n",
    "        return SOME_CONSTANT + self._field\n",
    "\n",
    "    def some_method2(self):\n",
    "        \"\"\"Test method for highlighting.\"\"\"\n",
    "        return some_function(SOME_CONSTANT)\n",
    "\n",
    "\n",
    "instance = SomeClass()\n",
    "instance.some_method1()\n",
    "instance.some_method2()\n",
    "\n",
    "# Jedi returns an implicit definition for these special variables,\n",
    "# which has no line number.  Highlighting of usages with line numbers\n",
    "# should still function.\n",
    "print(__file__)\n",
    "print(__package__)\n",
    "print(__doc__)\n",
    "print(__name__)"
   ]
  },
  {
   "cell_type": "code",
   "execution_count": null,
   "metadata": {},
   "outputs": [],
   "source": [
    "SOME_CONSTANT"
   ]
  }
 ],
 "metadata": {
  "language_info": {
   "name": "python"
  }
 },
 "nbformat": 4,
 "nbformat_minor": 2
}
